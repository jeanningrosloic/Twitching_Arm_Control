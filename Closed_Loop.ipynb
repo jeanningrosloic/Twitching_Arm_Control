{
 "cells": [
  {
   "cell_type": "code",
   "execution_count": 2,
   "metadata": {
    "collapsed": false
   },
   "outputs": [],
   "source": [
    "from Network import *\n",
    "#import opensim\n",
    "import math\n",
    "import numpy as np\n",
    "import sys\n",
    "import os\n",
    "#from osim.env import OsimEnv\n",
    "import os.path\n",
    "#from GaitEnv import GaitEnv\n",
    "#from ArmEnv import ArmEnv\n",
    "#from BioInspiredHierarchicalLearning import BioInspiredHierarchicalLearning"
   ]
  },
  {
   "cell_type": "code",
   "execution_count": null,
   "metadata": {
    "collapsed": true
   },
   "outputs": [],
   "source": [
    "muscle_names = [\n",
    "                \"TRIlong\",\n",
    "                \"TRIlat\",\n",
    "                \"TRImed\",\n",
    "                \"BIClong\",\n",
    "                \"BICshort\",\n",
    "                \"BRA\"    \n",
    "                ]\n",
    "#length_0 = [0.14216617288226033, 0.08269375662806208, 0.07766732577665353, \n",
    "#            0.13944816053740705, 0.1410019757515655, 0.08559110518023604]"
   ]
  },
  {
   "cell_type": "code",
   "execution_count": null,
   "metadata": {
    "collapsed": true
   },
   "outputs": [],
   "source": [
    "time_step = 100.\n",
    "\n",
    "print(\"Environment Generation\")\n",
    "env = TwitchingEnv(visualize=False, musclesName = muscle_names, stepsize = 0.01)\n",
    "env.reset()\n",
    "print('Network Generation')\n",
    "net = Network(time_step)"
   ]
  },
  {
   "cell_type": "code",
   "execution_count": null,
   "metadata": {
    "collapsed": true
   },
   "outputs": [],
   "source": [
    "duration = (len(env.musclesName)+env.n_iter_waiting)*(env.iterDuration)\n",
    "\n",
    "\n",
    "print(\"Twitching Experiment\")\n",
    "\n",
    "for i in range(int(duration//env.stepsize)):\n",
    "    _, reward = env.step([0])\n",
    "    sensors = env.sensorsValues\n",
    "    actuators = env.actuatorsValues\n",
    "    net.step(time_step, sensors)\n",
    "    action = net.outputs"
   ]
  }
 ],
 "metadata": {
  "kernelspec": {
   "display_name": "Python 2",
   "language": "python",
   "name": "python2"
  },
  "language_info": {
   "codemirror_mode": {
    "name": "ipython",
    "version": 2
   },
   "file_extension": ".py",
   "mimetype": "text/x-python",
   "name": "python",
   "nbconvert_exporter": "python",
   "pygments_lexer": "ipython2",
   "version": "2.7.13"
  }
 },
 "nbformat": 4,
 "nbformat_minor": 2
}
